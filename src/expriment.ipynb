{
  "nbformat": 4,
  "nbformat_minor": 0,
  "metadata": {
    "colab": {
      "provenance": []
    },
    "kernelspec": {
      "name": "python3",
      "display_name": "Python 3"
    },
    "language_info": {
      "name": "python"
    }
  },
  "cells": [
    {
      "cell_type": "code",
      "source": [
        "!pip install python_speech_features fastdtw\n"
      ],
      "metadata": {
        "colab": {
          "base_uri": "https://localhost:8080/"
        },
        "id": "hMf1XgPQdZqr",
        "outputId": "cac420e1-0d34-411d-c5ca-3ae984306962"
      },
      "execution_count": 4,
      "outputs": [
        {
          "output_type": "stream",
          "name": "stdout",
          "text": [
            "Requirement already satisfied: python_speech_features in /usr/local/lib/python3.10/dist-packages (0.6)\n",
            "Collecting fastdtw\n",
            "  Downloading fastdtw-0.3.4.tar.gz (133 kB)\n",
            "\u001b[2K     \u001b[90m━━━━━━━━━━━━━━━━━━━━━━━━━━━━━━━━━━━━━━━\u001b[0m \u001b[32m133.4/133.4 kB\u001b[0m \u001b[31m2.7 MB/s\u001b[0m eta \u001b[36m0:00:00\u001b[0m\n",
            "\u001b[?25h  Preparing metadata (setup.py) ... \u001b[?25l\u001b[?25hdone\n",
            "Requirement already satisfied: numpy in /usr/local/lib/python3.10/dist-packages (from fastdtw) (1.23.5)\n",
            "Building wheels for collected packages: fastdtw\n",
            "  Building wheel for fastdtw (setup.py) ... \u001b[?25l\u001b[?25hdone\n",
            "  Created wheel for fastdtw: filename=fastdtw-0.3.4-cp310-cp310-linux_x86_64.whl size=512710 sha256=9813598ebc43b3d2d1a563067875a08a30e5004573720d439795c2b77a81ce47\n",
            "  Stored in directory: /root/.cache/pip/wheels/73/c8/f7/c25448dab74c3acf4848bc25d513c736bb93910277e1528ef4\n",
            "Successfully built fastdtw\n",
            "Installing collected packages: fastdtw\n",
            "Successfully installed fastdtw-0.3.4\n"
          ]
        }
      ]
    },
    {
      "cell_type": "code",
      "execution_count": 5,
      "metadata": {
        "colab": {
          "base_uri": "https://localhost:8080/"
        },
        "id": "6vsyWDqBdSv3",
        "outputId": "4339f73d-b9eb-4569-c7d3-fe5a7a5277df"
      },
      "outputs": [
        {
          "output_type": "stream",
          "name": "stdout",
          "text": [
            "Accumulated cost matrix D =\n",
            "[[ 0.          2.23606798 17.10213672]\n",
            " [ 0.          2.23606798 17.10213672]\n",
            " [ 2.23606798  1.41421356 14.22046204]\n",
            " [ 8.63919221  5.88634952 10.01653883]\n",
            " [23.50526096 18.69259799  7.30056308]]\n",
            "DTW distance DTW(X, Y) = 7.3005630797457695\n",
            "DTW calculation using library: (7.3005630797457695, [(0, 0), (0, 1), (1, 2), (1, 3), (2, 4)])\n"
          ]
        }
      ],
      "source": [
        "import numpy as np\n",
        "from fastdtw import fastdtw\n",
        "import math\n",
        "from scipy.spatial.distance import euclidean, sqeuclidean, cosine, correlation, chebyshev, cityblock, minkowski\n",
        "\n",
        "template = np.array([[1,1,3,6,12], [1,1,2,5,11], [3,3,3,3,3]])\n",
        "input_arr = np.array([[1,2,11], [1,3,12], [3,3,3]])\n",
        "\n",
        "\n",
        "def compute_cost_matrix(input_array, template):\n",
        "    distance_matrix = np.zeros((len(template), len(input_array)))\n",
        "    for i in range(len(distance_matrix)):\n",
        "        for j in range(len(distance_matrix[0])):\n",
        "            distance_matrix[i][j] = eucledian(input_array[j], template[i])\n",
        "\n",
        "    return distance_matrix\n",
        "\n",
        "def eucledian(a, b):\n",
        "    total = 0\n",
        "    for i in range(len(a)):\n",
        "        total += (a[i]-b[i])**2\n",
        "    return math.sqrt(total)\n",
        "\n",
        "def compute_accumulated_cost_matrix(C):\n",
        "    N = C.shape[0]\n",
        "    M = C.shape[1]\n",
        "    D = np.zeros((N, M))\n",
        "    D[0, 0] = C[0, 0]\n",
        "    for n in range(1, N):\n",
        "        D[n, 0] = D[n-1, 0] + C[n, 0]\n",
        "    for m in range(1, M):\n",
        "        D[0, m] = D[0, m-1] + C[0, m]\n",
        "    for n in range(1, N):\n",
        "        for m in range(1, M):\n",
        "            D[n, m] = C[n, m] + min(D[n-1, m], D[n, m-1], D[n-1, m-1])\n",
        "    return D\n",
        "\n",
        "C = compute_cost_matrix(input_array=input_arr.T, template=template.T)\n",
        "D =  compute_accumulated_cost_matrix(C)\n",
        "print('Accumulated cost matrix D =', D, sep='\\n')\n",
        "print('DTW distance DTW(X, Y) =', D[-1, -1])\n",
        "\n",
        "print(\"DTW calculation using library:\", fastdtw(input_arr.T, template.T, dist=euclidean))\n"
      ]
    },
    {
      "cell_type": "code",
      "source": [
        "from python_speech_features import mfcc\n",
        "from python_speech_features import logfbank\n",
        "import scipy.io.wavfile as wav\n",
        "import os\n",
        "\n",
        "folder_path = './dictionary/'\n",
        "template = []\n",
        "if os.path.exists(folder_path) and os.path.isdir(folder_path):\n",
        "    # List all files in the folder\n",
        "    files = os.listdir(folder_path)\n",
        "\n",
        "    # Iterate through the files\n",
        "    for file_name in files:\n",
        "        # You can process each file here, for example, print the file name\n",
        "        print(file_name)\n",
        "        (rate,sig) = wav.read(folder_path + file_name)\n",
        "        print(\"signal length and channel : \", sig.shape )\n",
        "        mfcc_feat = mfcc(sig,rate,nfilt = 39,numcep = 39,nfft =2048)\n",
        "\n",
        "        print(\"feature extraction length and channel : \", mfcc_feat.shape)\n",
        "        template.append([file_name[:-4],mfcc_feat])"
      ],
      "metadata": {
        "colab": {
          "base_uri": "https://localhost:8080/"
        },
        "id": "qxvNI8O9daAI",
        "outputId": "c692427f-28c4-4a8f-839b-82602c2b0caf"
      },
      "execution_count": 14,
      "outputs": [
        {
          "output_type": "stream",
          "name": "stdout",
          "text": [
            "tugas.wav\n",
            "signal length and channel :  (61056, 2)\n",
            "feature extraction length and channel :  (253, 39)\n",
            "merupakan.wav\n",
            "signal length and channel :  (70272, 2)\n",
            "feature extraction length and channel :  (292, 39)\n",
            "suara2.wav\n",
            "signal length and channel :  (70272, 2)\n",
            "feature extraction length and channel :  (292, 39)\n",
            "kuliah.wav\n",
            "signal length and channel :  (81792, 2)\n",
            "feature extraction length and channel :  (340, 39)\n",
            "kecil.wav\n",
            "signal length and channel :  (56448, 2)\n",
            "feature extraction length and channel :  (234, 39)\n",
            "ini.wav\n",
            "signal length and channel :  (61056, 2)\n",
            "feature extraction length and channel :  (253, 39)\n",
            "halo.wav\n",
            "signal length and channel :  (56448, 2)\n",
            "feature extraction length and channel :  (234, 39)\n",
            "pemrosesan.wav\n",
            "signal length and channel :  (72576, 2)\n",
            "feature extraction length and channel :  (301, 39)\n"
          ]
        }
      ]
    },
    {
      "cell_type": "code",
      "source": [
        "folder_path = './test/rafli/'\n",
        "test = []\n",
        "if os.path.exists(folder_path) and os.path.isdir(folder_path):\n",
        "    # List all files in the folder\n",
        "    files = os.listdir(folder_path)\n",
        "\n",
        "    # Iterate through the files\n",
        "    for file_name in files:\n",
        "        # You can process each file here, for example, print the file name\n",
        "        print(file_name)\n",
        "        (rate,sig) = wav.read(folder_path + file_name)\n",
        "        print(\"signal length and channel : \", sig.shape )\n",
        "        mfcc_feat = mfcc(sig,rate,nfilt = 39,numcep = 39,nfft =2048)\n",
        "\n",
        "        print(\"feature extraction length and channel : \", mfcc_feat.shape)\n",
        "        test.append([file_name[:-4],mfcc_feat])\n"
      ],
      "metadata": {
        "colab": {
          "base_uri": "https://localhost:8080/"
        },
        "id": "V5wqMd4iebN3",
        "outputId": "26421557-8235-437a-d111-75f4a0592981"
      },
      "execution_count": 28,
      "outputs": [
        {
          "output_type": "stream",
          "name": "stdout",
          "text": [
            "tugas.wav\n",
            "signal length and channel :  (67584,)\n",
            "feature extraction length and channel :  (140, 39)\n",
            "merupakan.wav\n",
            "signal length and channel :  (81920,)\n",
            "feature extraction length and channel :  (170, 39)\n",
            "kuliah.wav\n",
            "signal length and channel :  (73728,)\n",
            "feature extraction length and channel :  (153, 39)\n",
            "kecil.wav\n",
            "signal length and channel :  (73728,)\n",
            "feature extraction length and channel :  (153, 39)\n",
            "ini.wav\n",
            "signal length and channel :  (73728,)\n",
            "feature extraction length and channel :  (153, 39)\n",
            "halo.wav\n",
            "signal length and channel :  (71680,)\n",
            "feature extraction length and channel :  (148, 39)\n",
            "suara.wav\n",
            "signal length and channel :  (60416,)\n",
            "feature extraction length and channel :  (125, 39)\n",
            "pemrosesan.wav\n",
            "signal length and channel :  (82944,)\n",
            "feature extraction length and channel :  (172, 39)\n"
          ]
        }
      ]
    },
    {
      "cell_type": "code",
      "source": [
        "folder_path = './test/ronggur/'\n",
        "if os.path.exists(folder_path) and os.path.isdir(folder_path):\n",
        "    # List all files in the folder\n",
        "    files = os.listdir(folder_path)\n",
        "\n",
        "    # Iterate through the files\n",
        "    for file_name in files:\n",
        "        # You can process each file here, for example, print the file name\n",
        "        print(file_name)\n",
        "        (rate,sig) = wav.read(folder_path + file_name)\n",
        "        print(\"signal length and channel : \", sig.shape )\n",
        "        mfcc_feat = mfcc(sig,rate,nfilt = 39,numcep = 39,nfft =2048)\n",
        "\n",
        "        print(\"feature extraction length and channel : \", mfcc_feat.shape)\n",
        "        test.append([file_name[:-4],mfcc_feat])\n"
      ],
      "metadata": {
        "colab": {
          "base_uri": "https://localhost:8080/"
        },
        "id": "o3MW6LAze5EW",
        "outputId": "2c8f99e6-6e5f-4373-aaee-456b8cc78ef5"
      },
      "execution_count": 17,
      "outputs": [
        {
          "output_type": "stream",
          "name": "stdout",
          "text": [
            "tugas.wav\n",
            "signal length and channel :  (73728, 2)\n",
            "feature extraction length and channel :  (306, 39)\n",
            "merupakan.wav\n",
            "signal length and channel :  (94208, 2)\n",
            "feature extraction length and channel :  (392, 39)\n",
            "kuliah.wav\n",
            "signal length and channel :  (82944, 2)\n",
            "feature extraction length and channel :  (345, 39)\n",
            "kecil.wav\n",
            "signal length and channel :  (93184, 2)\n",
            "feature extraction length and channel :  (387, 39)\n",
            "ini.wav\n",
            "signal length and channel :  (90112, 2)\n",
            "feature extraction length and channel :  (374, 39)\n",
            "halo.wav\n",
            "signal length and channel :  (140288, 2)\n",
            "feature extraction length and channel :  (584, 39)\n",
            "suara.wav\n",
            "signal length and channel :  (87040, 2)\n",
            "feature extraction length and channel :  (362, 39)\n",
            "pemrosesan.wav\n",
            "signal length and channel :  (93184, 2)\n",
            "feature extraction length and channel :  (387, 39)\n"
          ]
        }
      ]
    },
    {
      "cell_type": "code",
      "source": [
        "test[0:3]"
      ],
      "metadata": {
        "colab": {
          "base_uri": "https://localhost:8080/"
        },
        "id": "Ez5owCRUfIe2",
        "outputId": "107ea6c3-1edc-4110-b021-8f1d31adef23"
      },
      "execution_count": 29,
      "outputs": [
        {
          "output_type": "execute_result",
          "data": {
            "text/plain": [
              "[['tugas',\n",
              "  array([[ 1.09103200e+01, -1.21212583e+01,  2.12327858e+01, ...,\n",
              "          -9.97352069e-01, -1.17548641e+00,  1.81987293e+00],\n",
              "         [ 1.14589629e+01, -1.42562940e+01,  1.86311900e+01, ...,\n",
              "          -6.81085007e-02, -1.84428232e+00,  1.20500972e+00],\n",
              "         [ 1.14927921e+01, -1.63281452e+01,  1.70746797e+01, ...,\n",
              "           1.02877283e+00, -1.05726539e+00, -5.92777396e-01],\n",
              "         ...,\n",
              "         [ 1.19302725e+01, -1.58212257e+01,  3.81857370e+00, ...,\n",
              "           7.68235379e-01, -5.43968403e-02, -2.73609897e+00],\n",
              "         [ 1.14781122e+01, -1.50112499e+01,  5.56490744e+00, ...,\n",
              "          -8.79008476e-03, -1.13668011e+00, -2.91614600e+00],\n",
              "         [ 9.99890089e+00, -1.50721779e+01, -1.34266695e+00, ...,\n",
              "          -2.93259797e-01,  3.38853882e-01, -1.01645271e-01]])],\n",
              " ['merupakan',\n",
              "  array([[ 10.96235063,  -9.92180503,  18.38242208, ...,  -3.0618727 ,\n",
              "           -5.48218273,   1.89419425],\n",
              "         [ 11.6347387 , -12.13760129,  14.47704224, ...,  -1.74282057,\n",
              "           -3.38863367,   0.71800045],\n",
              "         [ 11.63093222, -13.41980813,  13.2529833 , ...,   2.02708752,\n",
              "           -2.1254666 ,  -0.46690164],\n",
              "         ...,\n",
              "         [ 11.48437599, -17.64420037,  13.17654897, ...,   0.93143694,\n",
              "           -2.45449107,   0.62672033],\n",
              "         [ 11.78278165,  -8.95727534,   2.53589218, ...,  -0.58190451,\n",
              "           -1.73072163,   0.4187428 ],\n",
              "         [ 11.41659579,  -8.46285542,   2.1298659 , ...,  -0.97534498,\n",
              "           -1.20299519,   0.08914613]])],\n",
              " ['kuliah',\n",
              "  array([[ 11.01091937, -16.30908415,  21.61267891, ...,   2.22047848,\n",
              "           -2.7167256 ,   3.39332191],\n",
              "         [ 11.56844612, -18.01179944,  18.68921483, ...,   2.44746483,\n",
              "           -1.83414417,   2.68943868],\n",
              "         [ 11.52073474, -19.11265401,  16.63821735, ...,   0.74901266,\n",
              "           -2.55523064,   1.06877474],\n",
              "         ...,\n",
              "         [ 11.52110874, -12.59917114,   6.62377549, ...,   2.27643185,\n",
              "           -2.8459692 ,  -0.26564866],\n",
              "         [ 10.92647815,  -9.19347714,   7.29713396, ...,   1.25915542,\n",
              "           -1.85815486,  -0.78455531],\n",
              "         [  9.890756  , -15.50405204,  -0.37443745, ...,   0.79286814,\n",
              "           -0.76470891,   0.34232301]])]]"
            ]
          },
          "metadata": {},
          "execution_count": 29
        }
      ]
    },
    {
      "cell_type": "code",
      "source": [
        "for i in test:\n",
        "    bestGuessClass = template[0][0]\n",
        "    bestScore = 99999999.0\n",
        "    for j in template:\n",
        "      C = compute_cost_matrix(input_array=i[1], template=j[1])\n",
        "      D =  compute_accumulated_cost_matrix(C)\n",
        "      # print(D[-1, -1])\n",
        "      if (bestScore > D[-1, -1]).any():\n",
        "        bestScore = D[-1, -1]\n",
        "        bestGuessClass = j[0]\n",
        "    print(\"groundtruth :\", i[0])\n",
        "    print(\"Predicted : \", bestGuessClass)\n",
        "    print(\"Score : \", bestScore)\n",
        "    print(\"------------------\")\n"
      ],
      "metadata": {
        "colab": {
          "base_uri": "https://localhost:8080/"
        },
        "id": "veips3QUfMDY",
        "outputId": "5d5c2f78-c279-48e3-b20d-a44b3adc7320"
      },
      "execution_count": 42,
      "outputs": [
        {
          "output_type": "stream",
          "name": "stdout",
          "text": [
            "groundtruth : tugas\n",
            "Predicted :  halo\n",
            "Score :  26707.485299908898\n",
            "------------------\n",
            "groundtruth : merupakan\n",
            "Predicted :  halo\n",
            "Score :  27221.776847280486\n",
            "------------------\n",
            "groundtruth : kuliah\n",
            "Predicted :  halo\n",
            "Score :  26456.12387813376\n",
            "------------------\n",
            "groundtruth : kecil\n",
            "Predicted :  ini\n",
            "Score :  26602.40984703177\n",
            "------------------\n",
            "groundtruth : ini\n",
            "Predicted :  halo\n",
            "Score :  28081.678683637438\n",
            "------------------\n",
            "groundtruth : halo\n",
            "Predicted :  halo\n",
            "Score :  28165.0635320707\n",
            "------------------\n",
            "groundtruth : suara\n",
            "Predicted :  halo\n",
            "Score :  25544.781633270613\n",
            "------------------\n",
            "groundtruth : pemrosesan\n",
            "Predicted :  halo\n",
            "Score :  26707.89421025205\n",
            "------------------\n"
          ]
        }
      ]
    },
    {
      "cell_type": "code",
      "source": [],
      "metadata": {
        "id": "VL-m_WimfXeS"
      },
      "execution_count": null,
      "outputs": []
    }
  ]
}