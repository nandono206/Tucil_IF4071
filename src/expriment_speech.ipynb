{
  "nbformat": 4,
  "nbformat_minor": 0,
  "metadata": {
    "colab": {
      "provenance": []
    },
    "kernelspec": {
      "name": "python3",
      "display_name": "Python 3"
    },
    "language_info": {
      "name": "python"
    }
  },
  "cells": [
    {
      "cell_type": "code",
      "source": [
        "!pip install python_speech_features fastdtw\n"
      ],
      "metadata": {
        "colab": {
          "base_uri": "https://localhost:8080/"
        },
        "id": "hMf1XgPQdZqr",
        "outputId": "cac420e1-0d34-411d-c5ca-3ae984306962"
      },
      "execution_count": 4,
      "outputs": [
        {
          "output_type": "stream",
          "name": "stdout",
          "text": [
            "Requirement already satisfied: python_speech_features in /usr/local/lib/python3.10/dist-packages (0.6)\n",
            "Collecting fastdtw\n",
            "  Downloading fastdtw-0.3.4.tar.gz (133 kB)\n",
            "\u001b[2K     \u001b[90m━━━━━━━━━━━━━━━━━━━━━━━━━━━━━━━━━━━━━━━\u001b[0m \u001b[32m133.4/133.4 kB\u001b[0m \u001b[31m2.7 MB/s\u001b[0m eta \u001b[36m0:00:00\u001b[0m\n",
            "\u001b[?25h  Preparing metadata (setup.py) ... \u001b[?25l\u001b[?25hdone\n",
            "Requirement already satisfied: numpy in /usr/local/lib/python3.10/dist-packages (from fastdtw) (1.23.5)\n",
            "Building wheels for collected packages: fastdtw\n",
            "  Building wheel for fastdtw (setup.py) ... \u001b[?25l\u001b[?25hdone\n",
            "  Created wheel for fastdtw: filename=fastdtw-0.3.4-cp310-cp310-linux_x86_64.whl size=512710 sha256=9813598ebc43b3d2d1a563067875a08a30e5004573720d439795c2b77a81ce47\n",
            "  Stored in directory: /root/.cache/pip/wheels/73/c8/f7/c25448dab74c3acf4848bc25d513c736bb93910277e1528ef4\n",
            "Successfully built fastdtw\n",
            "Installing collected packages: fastdtw\n",
            "Successfully installed fastdtw-0.3.4\n"
          ]
        }
      ]
    },
    {
      "cell_type": "code",
      "execution_count": 5,
      "metadata": {
        "colab": {
          "base_uri": "https://localhost:8080/"
        },
        "id": "6vsyWDqBdSv3",
        "outputId": "4339f73d-b9eb-4569-c7d3-fe5a7a5277df"
      },
      "outputs": [
        {
          "output_type": "stream",
          "name": "stdout",
          "text": [
            "Accumulated cost matrix D =\n",
            "[[ 0.          2.23606798 17.10213672]\n",
            " [ 0.          2.23606798 17.10213672]\n",
            " [ 2.23606798  1.41421356 14.22046204]\n",
            " [ 8.63919221  5.88634952 10.01653883]\n",
            " [23.50526096 18.69259799  7.30056308]]\n",
            "DTW distance DTW(X, Y) = 7.3005630797457695\n",
            "DTW calculation using library: (7.3005630797457695, [(0, 0), (0, 1), (1, 2), (1, 3), (2, 4)])\n"
          ]
        }
      ],
      "source": [
        "import numpy as np\n",
        "from fastdtw import fastdtw\n",
        "import math\n",
        "from scipy.spatial.distance import euclidean, sqeuclidean, cosine, correlation, chebyshev, cityblock, minkowski\n",
        "\n",
        "template = np.array([[1,1,3,6,12], [1,1,2,5,11], [3,3,3,3,3]])\n",
        "input_arr = np.array([[1,2,11], [1,3,12], [3,3,3]])\n",
        "\n",
        "\n",
        "def compute_cost_matrix(input_array, template):\n",
        "    distance_matrix = np.zeros((len(template), len(input_array)))\n",
        "    for i in range(len(distance_matrix)):\n",
        "        for j in range(len(distance_matrix[0])):\n",
        "            distance_matrix[i][j] = eucledian(input_array[j], template[i])\n",
        "\n",
        "    return distance_matrix\n",
        "\n",
        "def eucledian(a, b):\n",
        "    total = 0\n",
        "    for i in range(len(a)):\n",
        "        total += (a[i]-b[i])**2\n",
        "    return math.sqrt(total)\n",
        "\n",
        "def compute_accumulated_cost_matrix(C):\n",
        "    N = C.shape[0]\n",
        "    M = C.shape[1]\n",
        "    D = np.zeros((N, M))\n",
        "    D[0, 0] = C[0, 0]\n",
        "    for n in range(1, N):\n",
        "        D[n, 0] = D[n-1, 0] + C[n, 0]\n",
        "    for m in range(1, M):\n",
        "        D[0, m] = D[0, m-1] + C[0, m]\n",
        "    for n in range(1, N):\n",
        "        for m in range(1, M):\n",
        "            D[n, m] = C[n, m] + min(D[n-1, m], D[n, m-1], D[n-1, m-1])\n",
        "    return D\n",
        "# test fungsionalitas fungsi\n",
        "C = compute_cost_matrix(input_array=input_arr.T, template=template.T)\n",
        "D =  compute_accumulated_cost_matrix(C)\n",
        "print('Accumulated cost matrix D =', D, sep='\\n')\n",
        "print('DTW distance DTW(X, Y) =', D[-1, -1])\n",
        "\n",
        "print(\"DTW calculation using library:\", fastdtw(input_arr.T, template.T, dist=euclidean))\n"
      ]
    },
    {
      "cell_type": "code",
      "source": [
        "from python_speech_features import mfcc\n",
        "from python_speech_features import logfbank\n",
        "import scipy.io.wavfile as wav\n",
        "import os\n",
        "\n",
        "folder_path = './dictionary/'\n",
        "template = []\n",
        "if os.path.exists(folder_path) and os.path.isdir(folder_path):\n",
        "    # List all files in the folder\n",
        "    files = os.listdir(folder_path)\n",
        "\n",
        "    # Iterate through the files\n",
        "    for file_name in files:\n",
        "        # You can process each file here, for example, print the file name\n",
        "        print(file_name)\n",
        "        (rate,sig) = wav.read(folder_path + file_name)\n",
        "        print(\"signal length and channel : \", sig.shape )\n",
        "        mfcc_feat = mfcc(sig,rate,nfilt = 39,numcep = 39,nfft =2048)\n",
        "\n",
        "        print(\"feature extraction length and channel : \", mfcc_feat.shape)\n",
        "        template.append([file_name[:-4],mfcc_feat])"
      ],
      "metadata": {
        "colab": {
          "base_uri": "https://localhost:8080/"
        },
        "id": "qxvNI8O9daAI",
        "outputId": "fe1e1ea9-2d27-4c8b-b820-557329068fb9"
      },
      "execution_count": 46,
      "outputs": [
        {
          "output_type": "stream",
          "name": "stdout",
          "text": [
            "tugas.wav\n",
            "signal length and channel :  (61056, 2)\n",
            "feature extraction length and channel :  (253, 39)\n",
            "merupakan.wav\n",
            "signal length and channel :  (70272, 2)\n",
            "feature extraction length and channel :  (292, 39)\n",
            "suara2.wav\n",
            "signal length and channel :  (70272, 2)\n",
            "feature extraction length and channel :  (292, 39)\n",
            "kuliah.wav\n",
            "signal length and channel :  (81792, 2)\n",
            "feature extraction length and channel :  (340, 39)\n",
            "kecil.wav\n",
            "signal length and channel :  (56448, 2)\n",
            "feature extraction length and channel :  (234, 39)\n",
            "ini.wav\n",
            "signal length and channel :  (61056, 2)\n",
            "feature extraction length and channel :  (253, 39)\n",
            "halo.wav\n",
            "signal length and channel :  (56448, 2)\n",
            "feature extraction length and channel :  (234, 39)\n",
            "pemrosesan.wav\n",
            "signal length and channel :  (72576, 2)\n",
            "feature extraction length and channel :  (301, 39)\n"
          ]
        }
      ]
    },
    {
      "cell_type": "markdown",
      "source": [
        "## import suara rafli sebagai dataset\n",
        "\n"
      ],
      "metadata": {
        "id": "3q6Z8omWoRPt"
      }
    },
    {
      "cell_type": "code",
      "source": [
        "folder_path = './test/rafli/'\n",
        "test_rafli = []\n",
        "if os.path.exists(folder_path) and os.path.isdir(folder_path):\n",
        "    # List all files in the folder\n",
        "    files = os.listdir(folder_path)\n",
        "\n",
        "    # Iterate through the files\n",
        "    for file_name in files:\n",
        "        # You can process each file here, for example, print the file name\n",
        "        print(file_name)\n",
        "        (rate,sig) = wav.read(folder_path + file_name)\n",
        "        print(\"signal length and channel : \", sig.shape )\n",
        "        mfcc_feat = mfcc(sig,rate,nfilt = 39,numcep = 39,nfft =2048)\n",
        "\n",
        "        print(\"feature extraction length and channel : \", mfcc_feat.shape)\n",
        "        test_rafli.append([file_name[:-4],mfcc_feat])\n"
      ],
      "metadata": {
        "colab": {
          "base_uri": "https://localhost:8080/"
        },
        "id": "V5wqMd4iebN3",
        "outputId": "57bc8d81-7d04-413c-80d5-4d03ee653901"
      },
      "execution_count": 47,
      "outputs": [
        {
          "output_type": "stream",
          "name": "stdout",
          "text": [
            "tugas.wav\n",
            "signal length and channel :  (67584,)\n",
            "feature extraction length and channel :  (140, 39)\n",
            "merupakan.wav\n",
            "signal length and channel :  (81920,)\n",
            "feature extraction length and channel :  (170, 39)\n",
            "kuliah.wav\n",
            "signal length and channel :  (73728,)\n",
            "feature extraction length and channel :  (153, 39)\n",
            "kecil.wav\n",
            "signal length and channel :  (73728,)\n",
            "feature extraction length and channel :  (153, 39)\n",
            "ini.wav\n",
            "signal length and channel :  (73728,)\n",
            "feature extraction length and channel :  (153, 39)\n",
            "halo.wav\n",
            "signal length and channel :  (71680,)\n",
            "feature extraction length and channel :  (148, 39)\n",
            "suara.wav\n",
            "signal length and channel :  (60416,)\n",
            "feature extraction length and channel :  (125, 39)\n",
            "pemrosesan.wav\n",
            "signal length and channel :  (82944,)\n",
            "feature extraction length and channel :  (172, 39)\n"
          ]
        }
      ]
    },
    {
      "cell_type": "markdown",
      "source": [
        "## import suara ronggur sebagai dataset"
      ],
      "metadata": {
        "id": "aenANUuPoO_M"
      }
    },
    {
      "cell_type": "code",
      "source": [
        "folder_path = './test/ronggur/'\n",
        "test_ronggur = []\n",
        "if os.path.exists(folder_path) and os.path.isdir(folder_path):\n",
        "    # List all files in the folder\n",
        "    files = os.listdir(folder_path)\n",
        "\n",
        "    # Iterate through the files\n",
        "    for file_name in files:\n",
        "        # You can process each file here, for example, print the file name\n",
        "        print(file_name)\n",
        "        (rate,sig) = wav.read(folder_path + file_name)\n",
        "        print(\"signal length and channel : \", sig.shape )\n",
        "        mfcc_feat = mfcc(sig,rate,nfilt = 39,numcep = 39,nfft =2048)\n",
        "\n",
        "        print(\"feature extraction length and channel : \", mfcc_feat.shape)\n",
        "        test_ronggur.append([file_name[:-4],mfcc_feat])\n"
      ],
      "metadata": {
        "colab": {
          "base_uri": "https://localhost:8080/"
        },
        "id": "o3MW6LAze5EW",
        "outputId": "915d0547-349d-493e-e19d-c05d620dc004"
      },
      "execution_count": 48,
      "outputs": [
        {
          "output_type": "stream",
          "name": "stdout",
          "text": [
            "tugas.wav\n",
            "signal length and channel :  (73728, 2)\n",
            "feature extraction length and channel :  (306, 39)\n",
            "merupakan.wav\n",
            "signal length and channel :  (94208, 2)\n",
            "feature extraction length and channel :  (392, 39)\n",
            "kuliah.wav\n",
            "signal length and channel :  (82944, 2)\n",
            "feature extraction length and channel :  (345, 39)\n",
            "kecil.wav\n",
            "signal length and channel :  (93184, 2)\n",
            "feature extraction length and channel :  (387, 39)\n",
            "ini.wav\n",
            "signal length and channel :  (90112, 2)\n",
            "feature extraction length and channel :  (374, 39)\n",
            "halo.wav\n",
            "signal length and channel :  (140288, 2)\n",
            "feature extraction length and channel :  (584, 39)\n",
            "suara.wav\n",
            "signal length and channel :  (87040, 2)\n",
            "feature extraction length and channel :  (362, 39)\n",
            "pemrosesan.wav\n",
            "signal length and channel :  (93184, 2)\n",
            "feature extraction length and channel :  (387, 39)\n"
          ]
        }
      ]
    },
    {
      "cell_type": "code",
      "source": [],
      "metadata": {
        "id": "nVtsZB7eoKuX"
      },
      "execution_count": null,
      "outputs": []
    },
    {
      "cell_type": "markdown",
      "source": [
        "## import dictionary sebagai dataset"
      ],
      "metadata": {
        "id": "2FVSm5bxoMCX"
      }
    },
    {
      "cell_type": "code",
      "source": [
        "folder_path = './dictionary/'\n",
        "test_template = []\n",
        "if os.path.exists(folder_path) and os.path.isdir(folder_path):\n",
        "    # List all files in the folder\n",
        "    files = os.listdir(folder_path)\n",
        "\n",
        "    # Iterate through the files\n",
        "    for file_name in files:\n",
        "        # You can process each file here, for example, print the file name\n",
        "        print(file_name)\n",
        "        (rate,sig) = wav.read(folder_path + file_name)\n",
        "        print(\"signal length and channel : \", sig.shape )\n",
        "        mfcc_feat = mfcc(sig,rate,nfilt = 39,numcep = 39,nfft =2048)\n",
        "\n",
        "        print(\"feature extraction length and channel : \", mfcc_feat.shape)\n",
        "        test_template.append([file_name[:-4],mfcc_feat])\n"
      ],
      "metadata": {
        "colab": {
          "base_uri": "https://localhost:8080/"
        },
        "id": "6h8e0WLRmwkG",
        "outputId": "952c71ff-2f49-4c9a-f472-81ca54654664"
      },
      "execution_count": 60,
      "outputs": [
        {
          "output_type": "stream",
          "name": "stdout",
          "text": [
            "tugas.wav\n",
            "signal length and channel :  (61056, 2)\n",
            "feature extraction length and channel :  (253, 39)\n",
            "merupakan.wav\n",
            "signal length and channel :  (70272, 2)\n",
            "feature extraction length and channel :  (292, 39)\n",
            "suara2.wav\n",
            "signal length and channel :  (70272, 2)\n",
            "feature extraction length and channel :  (292, 39)\n",
            "kuliah.wav\n",
            "signal length and channel :  (81792, 2)\n",
            "feature extraction length and channel :  (340, 39)\n",
            "kecil.wav\n",
            "signal length and channel :  (56448, 2)\n",
            "feature extraction length and channel :  (234, 39)\n",
            "ini.wav\n",
            "signal length and channel :  (61056, 2)\n",
            "feature extraction length and channel :  (253, 39)\n",
            "halo.wav\n",
            "signal length and channel :  (56448, 2)\n",
            "feature extraction length and channel :  (234, 39)\n",
            "pemrosesan.wav\n",
            "signal length and channel :  (72576, 2)\n",
            "feature extraction length and channel :  (301, 39)\n"
          ]
        }
      ]
    },
    {
      "cell_type": "markdown",
      "source": [
        "## def prosedur untuk testing dan calc accuracy"
      ],
      "metadata": {
        "id": "Im-ZcFSDoGNv"
      }
    },
    {
      "cell_type": "code",
      "source": [
        "def testSpeech(testset, template):\n",
        "    truepos = 0\n",
        "    for i in testset:\n",
        "      bestGuessClass = template[0][0]\n",
        "      bestScore = 99999999.0\n",
        "      for j in template:\n",
        "        C = compute_cost_matrix(input_array=i[1], template=j[1])\n",
        "        D =  compute_accumulated_cost_matrix(C)\n",
        "        # print(D[-1, -1])\n",
        "        if (bestScore > D[-1, -1]).any():\n",
        "          bestScore = D[-1, -1]\n",
        "          bestGuessClass = j[0]\n",
        "      print(\"groundtruth :\", i[0])\n",
        "      print(\"Predicted : \", bestGuessClass)\n",
        "      if(i[0] == bestGuessClass):\n",
        "        truepos += 1\n",
        "      print(\"Score : \", bestScore)\n",
        "      print(\"------------------\")\n",
        "    acc = truepos/len(test_rafli)\n",
        "    print(\"accuracy : \", acc)\n",
        "    return acc"
      ],
      "metadata": {
        "id": "oNMSsR-GlnjU"
      },
      "execution_count": 59,
      "outputs": []
    },
    {
      "cell_type": "markdown",
      "source": [
        "## Test pake suara rafli"
      ],
      "metadata": {
        "id": "-9pavTYSoC-z"
      }
    },
    {
      "cell_type": "code",
      "source": [
        "print(testSpeech(test_rafli, template))"
      ],
      "metadata": {
        "colab": {
          "base_uri": "https://localhost:8080/"
        },
        "id": "dHk6RWnFnGSz",
        "outputId": "ec87bbc6-ee62-4e56-f335-e8b941016b1c"
      },
      "execution_count": 62,
      "outputs": [
        {
          "output_type": "stream",
          "name": "stdout",
          "text": [
            "groundtruth : tugas\n",
            "Predicted :  halo\n",
            "Score :  26707.485299908898\n",
            "------------------\n",
            "groundtruth : merupakan\n",
            "Predicted :  halo\n",
            "Score :  27221.776847280486\n",
            "------------------\n",
            "groundtruth : kuliah\n",
            "Predicted :  halo\n",
            "Score :  26456.12387813376\n",
            "------------------\n",
            "groundtruth : kecil\n",
            "Predicted :  ini\n",
            "Score :  26602.40984703177\n",
            "------------------\n",
            "groundtruth : ini\n",
            "Predicted :  halo\n",
            "Score :  28081.678683637438\n",
            "------------------\n",
            "groundtruth : halo\n",
            "Predicted :  halo\n",
            "Score :  28165.0635320707\n",
            "------------------\n",
            "groundtruth : suara\n",
            "Predicted :  halo\n",
            "Score :  25544.781633270613\n",
            "------------------\n",
            "groundtruth : pemrosesan\n",
            "Predicted :  halo\n",
            "Score :  26707.89421025205\n",
            "------------------\n",
            "accuracy :  0.125\n",
            "0.125\n"
          ]
        }
      ]
    },
    {
      "cell_type": "markdown",
      "source": [
        "## Test pake suara ronggur"
      ],
      "metadata": {
        "id": "rPB6gYeWn76d"
      }
    },
    {
      "cell_type": "code",
      "source": [
        "print(testSpeech(test_ronggur, template))"
      ],
      "metadata": {
        "colab": {
          "base_uri": "https://localhost:8080/"
        },
        "id": "Wh2cY8-7nGEN",
        "outputId": "80ff5bf0-9276-4d3e-c422-72049f93687d"
      },
      "execution_count": 63,
      "outputs": [
        {
          "output_type": "stream",
          "name": "stdout",
          "text": [
            "groundtruth : tugas\n",
            "Predicted :  kecil\n",
            "Score :  26741.52633176501\n",
            "------------------\n",
            "groundtruth : merupakan\n",
            "Predicted :  merupakan\n",
            "Score :  33083.98182293037\n",
            "------------------\n",
            "groundtruth : kuliah\n",
            "Predicted :  kecil\n",
            "Score :  28341.532111976652\n",
            "------------------\n",
            "groundtruth : kecil\n",
            "Predicted :  kecil\n",
            "Score :  30824.46344478791\n",
            "------------------\n",
            "groundtruth : ini\n",
            "Predicted :  kecil\n",
            "Score :  31647.313078436764\n",
            "------------------\n",
            "groundtruth : halo\n",
            "Predicted :  ini\n",
            "Score :  42543.77701857394\n",
            "------------------\n",
            "groundtruth : suara\n",
            "Predicted :  kecil\n",
            "Score :  30473.62253096967\n",
            "------------------\n",
            "groundtruth : pemrosesan\n",
            "Predicted :  kecil\n",
            "Score :  32220.77128617396\n",
            "------------------\n",
            "accuracy :  0.25\n",
            "0.25\n"
          ]
        }
      ]
    },
    {
      "cell_type": "markdown",
      "source": [
        "## Test pake templatenya (harusnya acc 100% dan score 0)"
      ],
      "metadata": {
        "id": "KcfW2nugn_HZ"
      }
    },
    {
      "cell_type": "code",
      "source": [
        "print(testSpeech(test_template, template))"
      ],
      "metadata": {
        "colab": {
          "base_uri": "https://localhost:8080/"
        },
        "id": "w7vvlMselT3a",
        "outputId": "c9a1c0d0-6456-4ef2-892e-0d14f3da0aee"
      },
      "execution_count": 61,
      "outputs": [
        {
          "output_type": "stream",
          "name": "stdout",
          "text": [
            "groundtruth : tugas\n",
            "Predicted :  tugas\n",
            "Score :  0.0\n",
            "------------------\n",
            "groundtruth : merupakan\n",
            "Predicted :  merupakan\n",
            "Score :  0.0\n",
            "------------------\n",
            "groundtruth : suara2\n",
            "Predicted :  suara2\n",
            "Score :  0.0\n",
            "------------------\n",
            "groundtruth : kuliah\n",
            "Predicted :  kuliah\n",
            "Score :  0.0\n",
            "------------------\n",
            "groundtruth : kecil\n",
            "Predicted :  kecil\n",
            "Score :  0.0\n",
            "------------------\n",
            "groundtruth : ini\n",
            "Predicted :  ini\n",
            "Score :  0.0\n",
            "------------------\n",
            "groundtruth : halo\n",
            "Predicted :  halo\n",
            "Score :  0.0\n",
            "------------------\n",
            "groundtruth : pemrosesan\n",
            "Predicted :  pemrosesan\n",
            "Score :  0.0\n",
            "------------------\n",
            "accuracy :  1.0\n",
            "1.0\n"
          ]
        }
      ]
    }
  ]
}