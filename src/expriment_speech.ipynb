{
  "nbformat": 4,
  "nbformat_minor": 0,
  "metadata": {
    "colab": {
      "provenance": []
    },
    "kernelspec": {
      "name": "python3",
      "display_name": "Python 3"
    },
    "language_info": {
      "name": "python"
    }
  },
  "cells": [
    {
      "cell_type": "code",
      "source": [
        "!pip install python_speech_features fastdtw\n"
      ],
      "metadata": {
        "colab": {
          "base_uri": "https://localhost:8080/"
        },
        "id": "hMf1XgPQdZqr",
        "outputId": "1fd73720-de7b-498f-9f36-a108b8657c2d"
      },
      "execution_count": 183,
      "outputs": [
        {
          "output_type": "stream",
          "name": "stdout",
          "text": [
            "Requirement already satisfied: python_speech_features in /usr/local/lib/python3.10/dist-packages (0.6)\n",
            "Requirement already satisfied: fastdtw in /usr/local/lib/python3.10/dist-packages (0.3.4)\n",
            "Requirement already satisfied: numpy in /usr/local/lib/python3.10/dist-packages (from fastdtw) (1.23.5)\n"
          ]
        }
      ]
    },
    {
      "cell_type": "markdown",
      "source": [],
      "metadata": {
        "id": "oSqlVQgL1f4F"
      }
    },
    {
      "cell_type": "code",
      "execution_count": 184,
      "metadata": {
        "id": "6vsyWDqBdSv3"
      },
      "outputs": [],
      "source": [
        "import numpy as np\n",
        "from fastdtw import fastdtw\n",
        "import math\n",
        "from scipy.spatial.distance import euclidean, sqeuclidean, cosine, correlation, chebyshev, cityblock, minkowski\n",
        "\n",
        "\n",
        "def compute_cost_matrix(input_array, template):\n",
        "    distance_matrix = np.zeros((len(template), len(input_array)))\n",
        "    for i in range(len(distance_matrix)):\n",
        "        for j in range(len(distance_matrix[0])):\n",
        "            distance_matrix[i][j] = eucledian(input_array[j], template[i])\n",
        "\n",
        "    return distance_matrix\n",
        "\n",
        "def eucledian(a, b):\n",
        "    total = 0\n",
        "    for i in range(len(a)):\n",
        "        total += (a[i]-b[i])**2\n",
        "    return math.sqrt(total)\n",
        "\n",
        "def compute_accumulated_cost_matrix(C):\n",
        "    N = C.shape[0]\n",
        "    M = C.shape[1]\n",
        "    D = np.zeros((N, M))\n",
        "    D[0, 0] = C[0, 0]\n",
        "    for n in range(1, N):\n",
        "        D[n, 0] = D[n-1, 0] + C[n, 0]\n",
        "    for m in range(1, M):\n",
        "        D[0, m] = D[0, m-1] + C[0, m]\n",
        "    for n in range(1, N):\n",
        "        for m in range(1, M):\n",
        "            D[n, m] = C[n, m] + min(D[n-1, m], D[n, m-1], D[n-1, m-1])\n",
        "    return D\n"
      ]
    },
    {
      "cell_type": "code",
      "source": [
        "from python_speech_features import mfcc\n",
        "from python_speech_features import logfbank\n",
        "import scipy.io.wavfile as wav\n",
        "import os\n",
        "\n",
        "folder_path = './dictionary/'\n",
        "template = []\n",
        "if os.path.exists(folder_path) and os.path.isdir(folder_path):\n",
        "    # List all files in the folder\n",
        "    files = os.listdir(folder_path)\n",
        "\n",
        "    # Iterate through the files\n",
        "    for file_name in files:\n",
        "        # You can process each file here, for example, print the file name\n",
        "        print(file_name)\n",
        "        (rate,sig) = wav.read(folder_path + file_name)\n",
        "        print(\"signal length and channel : \", sig.shape )\n",
        "        mfcc_feat = mfcc(sig,rate,nfilt = 39,numcep = 39,nfft =2048)\n",
        "\n",
        "        print(\"feature extraction length and channel : \", mfcc_feat.shape)\n",
        "        template.append([file_name[:-4],mfcc_feat])"
      ],
      "metadata": {
        "colab": {
          "base_uri": "https://localhost:8080/",
          "height": 947
        },
        "id": "qxvNI8O9daAI",
        "outputId": "51887a4c-574d-4a00-efd5-60d6732a67b6"
      },
      "execution_count": 186,
      "outputs": [
        {
          "output_type": "stream",
          "name": "stdout",
          "text": [
            "tugas.wav\n",
            "signal length and channel :  (61056, 2)\n",
            "feature extraction length and channel :  (253, 39)\n",
            "merupakan.wav\n",
            "signal length and channel :  (70272, 2)\n",
            "feature extraction length and channel :  (292, 39)\n",
            "kuliah.wav\n",
            "signal length and channel :  (81792, 2)\n",
            "feature extraction length and channel :  (340, 39)\n",
            "kecil.wav\n",
            "signal length and channel :  (56448, 2)\n",
            "feature extraction length and channel :  (234, 39)\n",
            "ini.wav\n",
            "signal length and channel :  (61056, 2)\n",
            "feature extraction length and channel :  (253, 39)\n",
            "dictionary.wav\n",
            "signal length and channel :  (87552, 2)\n",
            "feature extraction length and channel :  (364, 39)\n",
            "halo.wav\n",
            "signal length and channel :  (56448, 2)\n",
            "feature extraction length and channel :  (234, 39)\n",
            "tambahan.wav\n",
            "signal length and channel :  (73728, 2)\n",
            "feature extraction length and channel :  (306, 39)\n",
            "suara.wav\n",
            "signal length and channel :  (70272, 2)\n",
            "feature extraction length and channel :  (292, 39)\n",
            "pemrosesan.wav\n",
            "signal length and channel :  (72576, 2)\n",
            "feature extraction length and channel :  (301, 39)\n",
            ".ipynb_checkpoints\n"
          ]
        },
        {
          "output_type": "error",
          "ename": "IsADirectoryError",
          "evalue": "ignored",
          "traceback": [
            "\u001b[0;31m---------------------------------------------------------------------------\u001b[0m",
            "\u001b[0;31mIsADirectoryError\u001b[0m                         Traceback (most recent call last)",
            "\u001b[0;32m<ipython-input-186-80be9ea2aaa3>\u001b[0m in \u001b[0;36m<cell line: 8>\u001b[0;34m()\u001b[0m\n\u001b[1;32m     14\u001b[0m         \u001b[0;31m# You can process each file here, for example, print the file name\u001b[0m\u001b[0;34m\u001b[0m\u001b[0;34m\u001b[0m\u001b[0m\n\u001b[1;32m     15\u001b[0m         \u001b[0mprint\u001b[0m\u001b[0;34m(\u001b[0m\u001b[0mfile_name\u001b[0m\u001b[0;34m)\u001b[0m\u001b[0;34m\u001b[0m\u001b[0;34m\u001b[0m\u001b[0m\n\u001b[0;32m---> 16\u001b[0;31m         \u001b[0;34m(\u001b[0m\u001b[0mrate\u001b[0m\u001b[0;34m,\u001b[0m\u001b[0msig\u001b[0m\u001b[0;34m)\u001b[0m \u001b[0;34m=\u001b[0m \u001b[0mwav\u001b[0m\u001b[0;34m.\u001b[0m\u001b[0mread\u001b[0m\u001b[0;34m(\u001b[0m\u001b[0mfolder_path\u001b[0m \u001b[0;34m+\u001b[0m \u001b[0mfile_name\u001b[0m\u001b[0;34m)\u001b[0m\u001b[0;34m\u001b[0m\u001b[0;34m\u001b[0m\u001b[0m\n\u001b[0m\u001b[1;32m     17\u001b[0m         \u001b[0mprint\u001b[0m\u001b[0;34m(\u001b[0m\u001b[0;34m\"signal length and channel : \"\u001b[0m\u001b[0;34m,\u001b[0m \u001b[0msig\u001b[0m\u001b[0;34m.\u001b[0m\u001b[0mshape\u001b[0m \u001b[0;34m)\u001b[0m\u001b[0;34m\u001b[0m\u001b[0;34m\u001b[0m\u001b[0m\n\u001b[1;32m     18\u001b[0m         \u001b[0mmfcc_feat\u001b[0m \u001b[0;34m=\u001b[0m \u001b[0mmfcc\u001b[0m\u001b[0;34m(\u001b[0m\u001b[0msig\u001b[0m\u001b[0;34m,\u001b[0m\u001b[0mrate\u001b[0m\u001b[0;34m,\u001b[0m\u001b[0mnfilt\u001b[0m \u001b[0;34m=\u001b[0m \u001b[0;36m39\u001b[0m\u001b[0;34m,\u001b[0m\u001b[0mnumcep\u001b[0m \u001b[0;34m=\u001b[0m \u001b[0;36m39\u001b[0m\u001b[0;34m,\u001b[0m\u001b[0mnfft\u001b[0m \u001b[0;34m=\u001b[0m\u001b[0;36m2048\u001b[0m\u001b[0;34m)\u001b[0m\u001b[0;34m\u001b[0m\u001b[0;34m\u001b[0m\u001b[0m\n",
            "\u001b[0;32m/usr/local/lib/python3.10/dist-packages/scipy/io/wavfile.py\u001b[0m in \u001b[0;36mread\u001b[0;34m(filename, mmap)\u001b[0m\n\u001b[1;32m    645\u001b[0m         \u001b[0mmmap\u001b[0m \u001b[0;34m=\u001b[0m \u001b[0;32mFalse\u001b[0m\u001b[0;34m\u001b[0m\u001b[0;34m\u001b[0m\u001b[0m\n\u001b[1;32m    646\u001b[0m     \u001b[0;32melse\u001b[0m\u001b[0;34m:\u001b[0m\u001b[0;34m\u001b[0m\u001b[0;34m\u001b[0m\u001b[0m\n\u001b[0;32m--> 647\u001b[0;31m         \u001b[0mfid\u001b[0m \u001b[0;34m=\u001b[0m \u001b[0mopen\u001b[0m\u001b[0;34m(\u001b[0m\u001b[0mfilename\u001b[0m\u001b[0;34m,\u001b[0m \u001b[0;34m'rb'\u001b[0m\u001b[0;34m)\u001b[0m\u001b[0;34m\u001b[0m\u001b[0;34m\u001b[0m\u001b[0m\n\u001b[0m\u001b[1;32m    648\u001b[0m \u001b[0;34m\u001b[0m\u001b[0m\n\u001b[1;32m    649\u001b[0m     \u001b[0;32mtry\u001b[0m\u001b[0;34m:\u001b[0m\u001b[0;34m\u001b[0m\u001b[0;34m\u001b[0m\u001b[0m\n",
            "\u001b[0;31mIsADirectoryError\u001b[0m: [Errno 21] Is a directory: './dictionary/.ipynb_checkpoints'"
          ]
        }
      ]
    },
    {
      "cell_type": "markdown",
      "source": [
        "## import suara rafli sebagai dataset\n",
        "\n"
      ],
      "metadata": {
        "id": "3q6Z8omWoRPt"
      }
    },
    {
      "cell_type": "code",
      "source": [
        "folder_path = './test/rafli/'\n",
        "test_rafli = []\n",
        "if os.path.exists(folder_path) and os.path.isdir(folder_path):\n",
        "    # List all files in the folder\n",
        "    files = os.listdir(folder_path)\n",
        "\n",
        "    # Iterate through the files\n",
        "    for file_name in files:\n",
        "        # You can process each file here, for example, print the file name\n",
        "        print(file_name)\n",
        "        (rate,sig) = wav.read(folder_path + file_name)\n",
        "        print(\"signal length and channel : \", sig.shape )\n",
        "        mfcc_feat = mfcc(sig,rate,nfilt = 39,numcep = 39,nfft =2048)\n",
        "\n",
        "        print(\"feature extraction length and channel : \", mfcc_feat.shape)\n",
        "        test_rafli.append([file_name[:-4],mfcc_feat])\n"
      ],
      "metadata": {
        "colab": {
          "base_uri": "https://localhost:8080/"
        },
        "id": "V5wqMd4iebN3",
        "outputId": "51a82ef0-0a3c-449f-d440-4d41e11c5aa1"
      },
      "execution_count": 187,
      "outputs": [
        {
          "output_type": "stream",
          "name": "stdout",
          "text": [
            "tugas.wav\n",
            "signal length and channel :  (67584,)\n",
            "feature extraction length and channel :  (140, 39)\n",
            "merupakan.wav\n",
            "signal length and channel :  (81920,)\n",
            "feature extraction length and channel :  (170, 39)\n",
            "kuliah.wav\n",
            "signal length and channel :  (73728,)\n",
            "feature extraction length and channel :  (153, 39)\n",
            "kecil.wav\n",
            "signal length and channel :  (73728,)\n",
            "feature extraction length and channel :  (153, 39)\n",
            "ini.wav\n",
            "signal length and channel :  (73728,)\n",
            "feature extraction length and channel :  (153, 39)\n",
            "dictionary.wav\n",
            "signal length and channel :  (66560,)\n",
            "feature extraction length and channel :  (138, 39)\n",
            "halo.wav\n",
            "signal length and channel :  (71680,)\n",
            "feature extraction length and channel :  (148, 39)\n",
            "tambahan.wav\n",
            "signal length and channel :  (70656,)\n",
            "feature extraction length and channel :  (146, 39)\n",
            "suara.wav\n",
            "signal length and channel :  (60416,)\n",
            "feature extraction length and channel :  (125, 39)\n",
            "pemrosesan.wav\n",
            "signal length and channel :  (82944,)\n",
            "feature extraction length and channel :  (172, 39)\n"
          ]
        }
      ]
    },
    {
      "cell_type": "code",
      "source": [
        "len(test_rafli)"
      ],
      "metadata": {
        "colab": {
          "base_uri": "https://localhost:8080/"
        },
        "id": "gyz8XhpLrMsY",
        "outputId": "20860d1f-1010-4069-8d93-47ab124787a5"
      },
      "execution_count": 188,
      "outputs": [
        {
          "output_type": "execute_result",
          "data": {
            "text/plain": [
              "10"
            ]
          },
          "metadata": {},
          "execution_count": 188
        }
      ]
    },
    {
      "cell_type": "markdown",
      "source": [
        "## import suara ronggur sebagai dataset"
      ],
      "metadata": {
        "id": "aenANUuPoO_M"
      }
    },
    {
      "cell_type": "code",
      "source": [
        "folder_path = './test/ronggur/'\n",
        "test_ronggur = []\n",
        "if os.path.exists(folder_path) and os.path.isdir(folder_path):\n",
        "    # List all files in the folder\n",
        "    files = os.listdir(folder_path)\n",
        "\n",
        "    # Iterate through the files\n",
        "    for file_name in files:\n",
        "        # You can process each file here, for example, print the file name\n",
        "        print(file_name)\n",
        "        (rate,sig) = wav.read(folder_path + file_name)\n",
        "        print(\"signal length and channel : \", sig.shape )\n",
        "        mfcc_feat = mfcc(sig,rate,nfilt = 39,numcep = 39,nfft =2048)\n",
        "\n",
        "        print(\"feature extraction length and channel : \", mfcc_feat.shape)\n",
        "        test_ronggur.append([file_name[:-4],mfcc_feat])\n"
      ],
      "metadata": {
        "colab": {
          "base_uri": "https://localhost:8080/"
        },
        "id": "o3MW6LAze5EW",
        "outputId": "8f71eca1-b6d8-4a11-a90d-5b166d2625f5"
      },
      "execution_count": 189,
      "outputs": [
        {
          "output_type": "stream",
          "name": "stdout",
          "text": [
            "tugas.wav\n",
            "signal length and channel :  (73728, 2)\n",
            "feature extraction length and channel :  (306, 39)\n",
            "merupakan.wav\n",
            "signal length and channel :  (94208, 2)\n",
            "feature extraction length and channel :  (392, 39)\n",
            "kuliah.wav\n",
            "signal length and channel :  (82944, 2)\n",
            "feature extraction length and channel :  (345, 39)\n",
            "kecil.wav\n",
            "signal length and channel :  (93184, 2)\n",
            "feature extraction length and channel :  (387, 39)\n",
            "ini.wav\n",
            "signal length and channel :  (90112, 2)\n",
            "feature extraction length and channel :  (374, 39)\n",
            "dictionary.wav\n",
            "signal length and channel :  (96256, 2)\n",
            "feature extraction length and channel :  (400, 39)\n",
            "halo.wav\n",
            "signal length and channel :  (140288, 2)\n",
            "feature extraction length and channel :  (584, 39)\n",
            "tambahan.wav\n",
            "signal length and channel :  (97280, 2)\n",
            "feature extraction length and channel :  (404, 39)\n",
            "suara.wav\n",
            "signal length and channel :  (87040, 2)\n",
            "feature extraction length and channel :  (362, 39)\n",
            "pemrosesan.wav\n",
            "signal length and channel :  (93184, 2)\n",
            "feature extraction length and channel :  (387, 39)\n"
          ]
        }
      ]
    },
    {
      "cell_type": "code",
      "source": [
        "len(test_ronggur)"
      ],
      "metadata": {
        "colab": {
          "base_uri": "https://localhost:8080/"
        },
        "id": "nVtsZB7eoKuX",
        "outputId": "71175341-e058-4f47-d9d6-4ce23d11c111"
      },
      "execution_count": 190,
      "outputs": [
        {
          "output_type": "execute_result",
          "data": {
            "text/plain": [
              "10"
            ]
          },
          "metadata": {},
          "execution_count": 190
        }
      ]
    },
    {
      "cell_type": "code",
      "source": [
        "folder_path = './test/nando/'\n",
        "test_nando = []\n",
        "if os.path.exists(folder_path) and os.path.isdir(folder_path):\n",
        "    # List all files in the folder\n",
        "    files = os.listdir(folder_path)\n",
        "\n",
        "    # Iterate through the files\n",
        "    for file_name in files:\n",
        "        # You can process each file here, for example, print the file name\n",
        "        print(file_name)\n",
        "        (rate,sig) = wav.read(folder_path + file_name)\n",
        "        print(\"signal length and channel : \", sig.shape )\n",
        "        mfcc_feat = mfcc(sig,rate,nfilt = 39,numcep = 39,nfft =2048)\n",
        "\n",
        "        print(\"feature extraction length and channel : \", mfcc_feat.shape)\n",
        "        test_nando.append([file_name[:-4],mfcc_feat])\n"
      ],
      "metadata": {
        "colab": {
          "base_uri": "https://localhost:8080/"
        },
        "id": "NvD6roKN0rbU",
        "outputId": "3d704524-948c-47f9-f96d-6943fd2ee810"
      },
      "execution_count": 191,
      "outputs": [
        {
          "output_type": "stream",
          "name": "stdout",
          "text": [
            "tugas.wav\n",
            "signal length and channel :  (47232, 2)\n",
            "feature extraction length and channel :  (196, 39)\n",
            "merupakan.wav\n",
            "signal length and channel :  (66816, 2)\n",
            "feature extraction length and channel :  (277, 39)\n",
            "kuliah.wav\n",
            "signal length and channel :  (47232, 2)\n",
            "feature extraction length and channel :  (196, 39)\n",
            "kecil.wav\n",
            "signal length and channel :  (87552, 2)\n",
            "feature extraction length and channel :  (364, 39)\n",
            "ini.wav\n",
            "signal length and channel :  (61056, 2)\n",
            "feature extraction length and channel :  (253, 39)\n",
            "dictionary.wav\n",
            "signal length and channel :  (61056, 2)\n",
            "feature extraction length and channel :  (253, 39)\n",
            "halo.wav\n",
            "signal length and channel :  (67968, 2)\n",
            "feature extraction length and channel :  (282, 39)\n",
            "tambahan.wav\n",
            "signal length and channel :  (44928, 2)\n",
            "feature extraction length and channel :  (186, 39)\n",
            "suara.wav\n",
            "signal length and channel :  (78336, 2)\n",
            "feature extraction length and channel :  (325, 39)\n",
            "pemrosesan.wav\n",
            "signal length and channel :  (72576, 2)\n",
            "feature extraction length and channel :  (301, 39)\n"
          ]
        }
      ]
    },
    {
      "cell_type": "markdown",
      "source": [
        "## import dictionary sebagai dataset"
      ],
      "metadata": {
        "id": "2FVSm5bxoMCX"
      }
    },
    {
      "cell_type": "code",
      "source": [
        "folder_path = './dictionary/'\n",
        "test_template = []\n",
        "if os.path.exists(folder_path) and os.path.isdir(folder_path):\n",
        "    # List all files in the folder\n",
        "    files = os.listdir(folder_path)\n",
        "\n",
        "    # Iterate through the files\n",
        "    for file_name in files:\n",
        "        # You can process each file here, for example, print the file name\n",
        "        print(file_name)\n",
        "        (rate,sig) = wav.read(folder_path + file_name)\n",
        "        print(\"signal length and channel : \", sig.shape )\n",
        "        mfcc_feat = mfcc(sig,rate,nfilt = 39,numcep = 39,nfft =2048)\n",
        "\n",
        "        print(\"feature extraction length and channel : \", mfcc_feat.shape)\n",
        "        test_template.append([file_name[:-4],mfcc_feat])\n"
      ],
      "metadata": {
        "colab": {
          "base_uri": "https://localhost:8080/",
          "height": 947
        },
        "id": "6h8e0WLRmwkG",
        "outputId": "5a9828d1-d324-48d1-c3d2-43983237b27d"
      },
      "execution_count": 192,
      "outputs": [
        {
          "output_type": "stream",
          "name": "stdout",
          "text": [
            "tugas.wav\n",
            "signal length and channel :  (61056, 2)\n",
            "feature extraction length and channel :  (253, 39)\n",
            "merupakan.wav\n",
            "signal length and channel :  (70272, 2)\n",
            "feature extraction length and channel :  (292, 39)\n",
            "kuliah.wav\n",
            "signal length and channel :  (81792, 2)\n",
            "feature extraction length and channel :  (340, 39)\n",
            "kecil.wav\n",
            "signal length and channel :  (56448, 2)\n",
            "feature extraction length and channel :  (234, 39)\n",
            "ini.wav\n",
            "signal length and channel :  (61056, 2)\n",
            "feature extraction length and channel :  (253, 39)\n",
            "dictionary.wav\n",
            "signal length and channel :  (87552, 2)\n",
            "feature extraction length and channel :  (364, 39)\n",
            "halo.wav\n",
            "signal length and channel :  (56448, 2)\n",
            "feature extraction length and channel :  (234, 39)\n",
            "tambahan.wav\n",
            "signal length and channel :  (73728, 2)\n",
            "feature extraction length and channel :  (306, 39)\n",
            "suara.wav\n",
            "signal length and channel :  (70272, 2)\n",
            "feature extraction length and channel :  (292, 39)\n",
            "pemrosesan.wav\n",
            "signal length and channel :  (72576, 2)\n",
            "feature extraction length and channel :  (301, 39)\n",
            ".ipynb_checkpoints\n"
          ]
        },
        {
          "output_type": "error",
          "ename": "IsADirectoryError",
          "evalue": "ignored",
          "traceback": [
            "\u001b[0;31m---------------------------------------------------------------------------\u001b[0m",
            "\u001b[0;31mIsADirectoryError\u001b[0m                         Traceback (most recent call last)",
            "\u001b[0;32m<ipython-input-192-d0b302a78bb2>\u001b[0m in \u001b[0;36m<cell line: 3>\u001b[0;34m()\u001b[0m\n\u001b[1;32m      9\u001b[0m         \u001b[0;31m# You can process each file here, for example, print the file name\u001b[0m\u001b[0;34m\u001b[0m\u001b[0;34m\u001b[0m\u001b[0m\n\u001b[1;32m     10\u001b[0m         \u001b[0mprint\u001b[0m\u001b[0;34m(\u001b[0m\u001b[0mfile_name\u001b[0m\u001b[0;34m)\u001b[0m\u001b[0;34m\u001b[0m\u001b[0;34m\u001b[0m\u001b[0m\n\u001b[0;32m---> 11\u001b[0;31m         \u001b[0;34m(\u001b[0m\u001b[0mrate\u001b[0m\u001b[0;34m,\u001b[0m\u001b[0msig\u001b[0m\u001b[0;34m)\u001b[0m \u001b[0;34m=\u001b[0m \u001b[0mwav\u001b[0m\u001b[0;34m.\u001b[0m\u001b[0mread\u001b[0m\u001b[0;34m(\u001b[0m\u001b[0mfolder_path\u001b[0m \u001b[0;34m+\u001b[0m \u001b[0mfile_name\u001b[0m\u001b[0;34m)\u001b[0m\u001b[0;34m\u001b[0m\u001b[0;34m\u001b[0m\u001b[0m\n\u001b[0m\u001b[1;32m     12\u001b[0m         \u001b[0mprint\u001b[0m\u001b[0;34m(\u001b[0m\u001b[0;34m\"signal length and channel : \"\u001b[0m\u001b[0;34m,\u001b[0m \u001b[0msig\u001b[0m\u001b[0;34m.\u001b[0m\u001b[0mshape\u001b[0m \u001b[0;34m)\u001b[0m\u001b[0;34m\u001b[0m\u001b[0;34m\u001b[0m\u001b[0m\n\u001b[1;32m     13\u001b[0m         \u001b[0mmfcc_feat\u001b[0m \u001b[0;34m=\u001b[0m \u001b[0mmfcc\u001b[0m\u001b[0;34m(\u001b[0m\u001b[0msig\u001b[0m\u001b[0;34m,\u001b[0m\u001b[0mrate\u001b[0m\u001b[0;34m,\u001b[0m\u001b[0mnfilt\u001b[0m \u001b[0;34m=\u001b[0m \u001b[0;36m39\u001b[0m\u001b[0;34m,\u001b[0m\u001b[0mnumcep\u001b[0m \u001b[0;34m=\u001b[0m \u001b[0;36m39\u001b[0m\u001b[0;34m,\u001b[0m\u001b[0mnfft\u001b[0m \u001b[0;34m=\u001b[0m\u001b[0;36m2048\u001b[0m\u001b[0;34m)\u001b[0m\u001b[0;34m\u001b[0m\u001b[0;34m\u001b[0m\u001b[0m\n",
            "\u001b[0;32m/usr/local/lib/python3.10/dist-packages/scipy/io/wavfile.py\u001b[0m in \u001b[0;36mread\u001b[0;34m(filename, mmap)\u001b[0m\n\u001b[1;32m    645\u001b[0m         \u001b[0mmmap\u001b[0m \u001b[0;34m=\u001b[0m \u001b[0;32mFalse\u001b[0m\u001b[0;34m\u001b[0m\u001b[0;34m\u001b[0m\u001b[0m\n\u001b[1;32m    646\u001b[0m     \u001b[0;32melse\u001b[0m\u001b[0;34m:\u001b[0m\u001b[0;34m\u001b[0m\u001b[0;34m\u001b[0m\u001b[0m\n\u001b[0;32m--> 647\u001b[0;31m         \u001b[0mfid\u001b[0m \u001b[0;34m=\u001b[0m \u001b[0mopen\u001b[0m\u001b[0;34m(\u001b[0m\u001b[0mfilename\u001b[0m\u001b[0;34m,\u001b[0m \u001b[0;34m'rb'\u001b[0m\u001b[0;34m)\u001b[0m\u001b[0;34m\u001b[0m\u001b[0;34m\u001b[0m\u001b[0m\n\u001b[0m\u001b[1;32m    648\u001b[0m \u001b[0;34m\u001b[0m\u001b[0m\n\u001b[1;32m    649\u001b[0m     \u001b[0;32mtry\u001b[0m\u001b[0;34m:\u001b[0m\u001b[0;34m\u001b[0m\u001b[0;34m\u001b[0m\u001b[0m\n",
            "\u001b[0;31mIsADirectoryError\u001b[0m: [Errno 21] Is a directory: './dictionary/.ipynb_checkpoints'"
          ]
        }
      ]
    },
    {
      "cell_type": "markdown",
      "source": [
        "## def prosedur untuk testing dan calc accuracy"
      ],
      "metadata": {
        "id": "Im-ZcFSDoGNv"
      }
    },
    {
      "cell_type": "code",
      "source": [
        "def testSpeech(testset, template):\n",
        "    truepos = 0\n",
        "    for i in testset:\n",
        "      bestClass = template[0][0]\n",
        "      bestScore = 99999999.0\n",
        "      for j in template:\n",
        "        C = compute_cost_matrix(input_array=i[1], template=j[1])\n",
        "        D =  compute_accumulated_cost_matrix(C)\n",
        "        # print(D[-1, -1])\n",
        "        if (bestScore > D[-1, -1]).any():\n",
        "          bestScore = D[-1, -1]\n",
        "          bestClass = j[0]\n",
        "      print(\"groundtruth :\", i[0])\n",
        "      print(\"Predicted : \", bestClass)\n",
        "      if(i[0] == bestClass):\n",
        "        truepos += 1\n",
        "      print(\"Score : \", bestScore)\n",
        "      # print(\"DTW calculation using library:\", fastdtw(i[1].T, j[1].T, dist=euclidean))\n",
        "      print(\"------------------\")\n",
        "    acc = truepos/len(testset)\n",
        "    print(\"accuracy : \", acc)\n",
        "    return acc"
      ],
      "metadata": {
        "id": "oNMSsR-GlnjU"
      },
      "execution_count": 193,
      "outputs": []
    },
    {
      "cell_type": "markdown",
      "source": [
        "## Test pake suara nando"
      ],
      "metadata": {
        "id": "5PmiEFna6pEI"
      }
    },
    {
      "cell_type": "code",
      "source": [
        "print(testSpeech(test_nando, template))"
      ],
      "metadata": {
        "colab": {
          "base_uri": "https://localhost:8080/"
        },
        "id": "nT4RDvaz6mZ9",
        "outputId": "502366bd-706c-4e60-b85c-1bc2c34f0a75"
      },
      "execution_count": 195,
      "outputs": [
        {
          "output_type": "stream",
          "name": "stdout",
          "text": [
            "groundtruth : tugas\n",
            "Predicted :  tugas\n",
            "Score :  17983.902183685215\n",
            "------------------\n",
            "groundtruth : merupakan\n",
            "Predicted :  tambahan\n",
            "Score :  17249.732581690678\n",
            "------------------\n",
            "groundtruth : kuliah\n",
            "Predicted :  tambahan\n",
            "Score :  18874.232399604327\n",
            "------------------\n",
            "groundtruth : kecil\n",
            "Predicted :  tambahan\n",
            "Score :  25274.01227611414\n",
            "------------------\n",
            "groundtruth : ini\n",
            "Predicted :  tambahan\n",
            "Score :  19406.35150214916\n",
            "------------------\n",
            "groundtruth : dictionary\n",
            "Predicted :  dictionary\n",
            "Score :  19840.879773246004\n",
            "------------------\n",
            "groundtruth : halo\n",
            "Predicted :  tambahan\n",
            "Score :  19443.043777487652\n",
            "------------------\n",
            "groundtruth : tambahan\n",
            "Predicted :  tambahan\n",
            "Score :  15322.35291049979\n",
            "------------------\n",
            "groundtruth : suara\n",
            "Predicted :  tambahan\n",
            "Score :  22717.07377154172\n",
            "------------------\n",
            "groundtruth : pemrosesan\n",
            "Predicted :  tambahan\n",
            "Score :  20912.951665499215\n",
            "------------------\n",
            "accuracy :  0.3\n",
            "0.3\n"
          ]
        }
      ]
    },
    {
      "cell_type": "markdown",
      "source": [
        "## Test pake suara rafli"
      ],
      "metadata": {
        "id": "WdkathW-6qc6"
      }
    },
    {
      "cell_type": "code",
      "source": [
        "print(testSpeech(test_rafli, template))"
      ],
      "metadata": {
        "colab": {
          "base_uri": "https://localhost:8080/"
        },
        "id": "dHk6RWnFnGSz",
        "outputId": "706eba7d-77c8-41c6-b1fc-d1ac06a0f460"
      },
      "execution_count": 196,
      "outputs": [
        {
          "output_type": "stream",
          "name": "stdout",
          "text": [
            "groundtruth : tugas\n",
            "Predicted :  halo\n",
            "Score :  26707.485299908898\n",
            "------------------\n",
            "groundtruth : merupakan\n",
            "Predicted :  halo\n",
            "Score :  27221.776847280486\n",
            "------------------\n",
            "groundtruth : kuliah\n",
            "Predicted :  halo\n",
            "Score :  26456.12387813376\n",
            "------------------\n",
            "groundtruth : kecil\n",
            "Predicted :  ini\n",
            "Score :  26602.40984703177\n",
            "------------------\n",
            "groundtruth : ini\n",
            "Predicted :  halo\n",
            "Score :  28081.678683637438\n",
            "------------------\n",
            "groundtruth : dictionary\n",
            "Predicted :  halo\n",
            "Score :  27840.5405651443\n",
            "------------------\n",
            "groundtruth : halo\n",
            "Predicted :  halo\n",
            "Score :  28165.0635320707\n",
            "------------------\n",
            "groundtruth : tambahan\n",
            "Predicted :  halo\n",
            "Score :  27075.073191979835\n",
            "------------------\n",
            "groundtruth : suara\n",
            "Predicted :  halo\n",
            "Score :  25544.781633270613\n",
            "------------------\n",
            "groundtruth : pemrosesan\n",
            "Predicted :  halo\n",
            "Score :  26707.89421025205\n",
            "------------------\n",
            "accuracy :  0.1\n",
            "0.1\n"
          ]
        }
      ]
    },
    {
      "cell_type": "markdown",
      "source": [
        "## Test pake suara ronggur"
      ],
      "metadata": {
        "id": "rPB6gYeWn76d"
      }
    },
    {
      "cell_type": "code",
      "source": [
        "print(testSpeech(test_ronggur, template))"
      ],
      "metadata": {
        "colab": {
          "base_uri": "https://localhost:8080/"
        },
        "id": "Wh2cY8-7nGEN",
        "outputId": "3664382e-3f61-49dd-a708-37e1068b9bae"
      },
      "execution_count": 197,
      "outputs": [
        {
          "output_type": "stream",
          "name": "stdout",
          "text": [
            "groundtruth : tugas\n",
            "Predicted :  kecil\n",
            "Score :  26741.52633176501\n",
            "------------------\n",
            "groundtruth : merupakan\n",
            "Predicted :  merupakan\n",
            "Score :  33083.98182293037\n",
            "------------------\n",
            "groundtruth : kuliah\n",
            "Predicted :  kecil\n",
            "Score :  28341.532111976652\n",
            "------------------\n",
            "groundtruth : kecil\n",
            "Predicted :  kecil\n",
            "Score :  30824.46344478791\n",
            "------------------\n",
            "groundtruth : ini\n",
            "Predicted :  kecil\n",
            "Score :  31647.313078436764\n",
            "------------------\n",
            "groundtruth : dictionary\n",
            "Predicted :  kecil\n",
            "Score :  34727.897348163715\n",
            "------------------\n",
            "groundtruth : halo\n",
            "Predicted :  ini\n",
            "Score :  42543.77701857394\n",
            "------------------\n",
            "groundtruth : tambahan\n",
            "Predicted :  halo\n",
            "Score :  35909.14760695019\n",
            "------------------\n",
            "groundtruth : suara\n",
            "Predicted :  kecil\n",
            "Score :  30473.62253096967\n",
            "------------------\n",
            "groundtruth : pemrosesan\n",
            "Predicted :  kecil\n",
            "Score :  32220.77128617396\n",
            "------------------\n",
            "accuracy :  0.2\n",
            "0.2\n"
          ]
        }
      ]
    },
    {
      "cell_type": "markdown",
      "source": [
        "## Test pake templatenya (harusnya acc 100% dan score 0)"
      ],
      "metadata": {
        "id": "KcfW2nugn_HZ"
      }
    },
    {
      "cell_type": "code",
      "source": [
        "print(testSpeech(test_template, template))"
      ],
      "metadata": {
        "colab": {
          "base_uri": "https://localhost:8080/"
        },
        "id": "w7vvlMselT3a",
        "outputId": "6258582e-6d17-4b3c-f70e-91e35c57e322"
      },
      "execution_count": 199,
      "outputs": [
        {
          "output_type": "stream",
          "name": "stdout",
          "text": [
            "groundtruth : tugas\n",
            "Predicted :  tugas\n",
            "Score :  0.0\n",
            "------------------\n",
            "groundtruth : merupakan\n",
            "Predicted :  merupakan\n",
            "Score :  0.0\n",
            "------------------\n",
            "groundtruth : kuliah\n",
            "Predicted :  kuliah\n",
            "Score :  0.0\n",
            "------------------\n",
            "groundtruth : kecil\n",
            "Predicted :  kecil\n",
            "Score :  0.0\n",
            "------------------\n",
            "groundtruth : ini\n",
            "Predicted :  ini\n",
            "Score :  0.0\n",
            "------------------\n",
            "groundtruth : dictionary\n",
            "Predicted :  dictionary\n",
            "Score :  0.0\n",
            "------------------\n",
            "groundtruth : halo\n",
            "Predicted :  halo\n",
            "Score :  0.0\n",
            "------------------\n",
            "groundtruth : tambahan\n",
            "Predicted :  tambahan\n",
            "Score :  0.0\n",
            "------------------\n",
            "groundtruth : suara\n",
            "Predicted :  suara\n",
            "Score :  0.0\n",
            "------------------\n",
            "groundtruth : pemrosesan\n",
            "Predicted :  pemrosesan\n",
            "Score :  0.0\n",
            "------------------\n",
            "accuracy :  1.0\n",
            "1.0\n"
          ]
        }
      ]
    }
  ]
}